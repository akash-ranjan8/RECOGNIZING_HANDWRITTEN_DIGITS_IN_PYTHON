{
  "nbformat": 4,
  "nbformat_minor": 0,
  "metadata": {
    "colab": {
      "name": "Untitled21.ipynb",
      "provenance": [],
      "authorship_tag": "ABX9TyN1zhrnYzuj/uVHGqEwbOqq",
      "include_colab_link": true
    },
    "kernelspec": {
      "name": "python3",
      "display_name": "Python 3"
    }
  },
  "cells": [
    {
      "cell_type": "markdown",
      "metadata": {
        "id": "view-in-github",
        "colab_type": "text"
      },
      "source": [
        "<a href=\"https://colab.research.google.com/github/akash-ranjan8/RECOGNIZING_HANDWRITTEN_DIGITS_IN_PYTHON/blob/master/Recognizing_handwritten_digits.ipynb\" target=\"_parent\"><img src=\"https://colab.research.google.com/assets/colab-badge.svg\" alt=\"Open In Colab\"/></a>"
      ]
    },
    {
      "cell_type": "markdown",
      "metadata": {
        "id": "omMQC2BZjcD3",
        "colab_type": "text"
      },
      "source": [
        "#RECOGNIZING THE HANDWRITTEN DIGITS"
      ]
    },
    {
      "cell_type": "markdown",
      "metadata": {
        "id": "pEkJ_dTMjg9y",
        "colab_type": "text"
      },
      "source": [
        "#IMPORTING THE LIBRARIES"
      ]
    },
    {
      "cell_type": "code",
      "metadata": {
        "id": "V0GyIVmKjjpQ",
        "colab_type": "code",
        "colab": {}
      },
      "source": [
        "from sklearn.datasets import fetch_openml\n",
        "from sklearn.model_selection import train_test_split\n",
        "from sklearn.linear_model import LogisticRegression\n",
        "from sklearn import metrics\n",
        "import numpy as np\n",
        "import matplotlib.pyplot as plt\n",
        "\n",
        "%matplotlib inline"
      ],
      "execution_count": 1,
      "outputs": []
    },
    {
      "cell_type": "markdown",
      "metadata": {
        "id": "xtQUfHv-jsa5",
        "colab_type": "text"
      },
      "source": [
        "#EXTRACTING THE DATA "
      ]
    },
    {
      "cell_type": "code",
      "metadata": {
        "id": "ijixzZesjw8K",
        "colab_type": "code",
        "colab": {}
      },
      "source": [
        "mnist = fetch_openml(\"mnist_784\")"
      ],
      "execution_count": 3,
      "outputs": []
    },
    {
      "cell_type": "markdown",
      "metadata": {
        "id": "_I1x59zVkFHe",
        "colab_type": "text"
      },
      "source": [
        "#PLOTTING THE DATASET DIGITS"
      ]
    },
    {
      "cell_type": "code",
      "metadata": {
        "id": "9ZdZN124kMlw",
        "colab_type": "code",
        "colab": {
          "base_uri": "https://localhost:8080/",
          "height": 256
        },
        "outputId": "0b7da43d-7000-42fa-cebb-a57a23027e99"
      },
      "source": [
        "plt.figure(figsize=(20,4))\n",
        "for index,(image,label) in enumerate(zip(mnist.data[:5],mnist.target[:5])):\n",
        "    plt.subplot(1,5,index+1)\n",
        "    plt.imshow(np.reshape(image,(28,28)),cmap=\"gray\")\n",
        "    plt.title(\"Number: %s\" % label)"
      ],
      "execution_count": 4,
      "outputs": [
        {
          "output_type": "display_data",
          "data": {
            "image/png": "[encoded data removed]",
            "text/plain": [
              "<Figure size 1440x288 with 5 Axes>"
            ]
          },
          "metadata": {
            "tags": [],
            "needs_background": "light"
          }
        }
      ]
    },
    {
      "cell_type": "markdown",
      "metadata": {
        "id": "OHn1kYf7kSpA",
        "colab_type": "text"
      },
      "source": [
        "#SPLITTING THE DATASET"
      ]
    },
    {
      "cell_type": "code",
      "metadata": {
        "id": "Hs3Xjl6fkXpo",
        "colab_type": "code",
        "colab": {}
      },
      "source": [
        "X_train,X_test,Y_train,Y_test = train_test_split(mnist.data,mnist.target,test_size=0.2)"
      ],
      "execution_count": 5,
      "outputs": []
    },
    {
      "cell_type": "markdown",
      "metadata": {
        "id": "W9_9O_QAkbOy",
        "colab_type": "text"
      },
      "source": [
        "#APPLYING THE LOGISTIC REGRESSION ON THE TRAINING SET"
      ]
    },
    {
      "cell_type": "code",
      "metadata": {
        "id": "LQ5LCGfski7E",
        "colab_type": "code",
        "colab": {
          "base_uri": "https://localhost:8080/",
          "height": 173
        },
        "outputId": "b43e5d4c-e15f-46fd-b5d3-fb61633b3018"
      },
      "source": [
        "mdl = LogisticRegression(solver='lbfgs')\n",
        "mdl.fit(X_train,Y_train)\n",
        "predictions = mdl.predict(X_test)\n",
        "score = mdl.score(X_test,Y_test)\n",
        "print(score)"
      ],
      "execution_count": 6,
      "outputs": [
        {
          "output_type": "stream",
          "text": [
            "0.9228571428571428\n"
          ],
          "name": "stdout"
        },
        {
          "output_type": "stream",
          "text": [
            "/usr/local/lib/python3.6/dist-packages/sklearn/linear_model/_logistic.py:940: ConvergenceWarning: lbfgs failed to converge (status=1):\n",
            "STOP: TOTAL NO. of ITERATIONS REACHED LIMIT.\n",
            "\n",
            "Increase the number of iterations (max_iter) or scale the data as shown in:\n",
            "    https://scikit-learn.org/stable/modules/preprocessing.html\n",
            "Please also refer to the documentation for alternative solver options:\n",
            "    https://scikit-learn.org/stable/modules/linear_model.html#logistic-regression\n",
            "  extra_warning_msg=_LOGISTIC_SOLVER_CONVERGENCE_MSG)\n"
          ],
          "name": "stderr"
        }
      ]
    },
    {
      "cell_type": "markdown",
      "metadata": {
        "id": "QdSQBDrKkwOa",
        "colab_type": "text"
      },
      "source": [
        "#PREDICTIONS OF DIGITS"
      ]
    },
    {
      "cell_type": "code",
      "metadata": {
        "id": "x0Ykubwdk2WA",
        "colab_type": "code",
        "colab": {
          "base_uri": "https://localhost:8080/",
          "height": 283
        },
        "outputId": "4f032152-40cb-4642-fd1c-c80a941c0f68"
      },
      "source": [
        "index=1\n",
        "plt.imshow(np.reshape(X_test[index],(28,28)))\n",
        "print(\"Prediction: \"+mdl.predict([X_test[index]])[0])"
      ],
      "execution_count": 7,
      "outputs": [
        {
          "output_type": "stream",
          "text": [
            "Prediction: 5\n"
          ],
          "name": "stdout"
        },
        {
          "output_type": "display_data",
          "data": {
            "image/png": "[encoded data removed]",
            "text/plain": [
              "<Figure size 432x288 with 1 Axes>"
            ]
          },
          "metadata": {
            "tags": [],
            "needs_background": "light"
          }
        }
      ]
    },
    {
      "cell_type": "code",
      "metadata": {
        "id": "jUXnnO-0k82Z",
        "colab_type": "code",
        "colab": {
          "base_uri": "https://localhost:8080/",
          "height": 283
        },
        "outputId": "ea413086-ea69-4885-e739-032d2416767f"
      },
      "source": [
        "index=2\n",
        "plt.imshow(np.reshape(X_test[index],(28,28)))\n",
        "print(\"Prediction: \"+mdl.predict([X_test[index]])[0])"
      ],
      "execution_count": 8,
      "outputs": [
        {
          "output_type": "stream",
          "text": [
            "Prediction: 0\n"
          ],
          "name": "stdout"
        },
        {
          "output_type": "display_data",
          "data": {
            "image/png": "[encoded data removed]",
            "text/plain": [
              "<Figure size 432x288 with 1 Axes>"
            ]
          },
          "metadata": {
            "tags": [],
            "needs_background": "light"
          }
        }
      ]
    },
    {
      "cell_type": "code",
      "metadata": {
        "id": "rDi7AzSElB7u",
        "colab_type": "code",
        "colab": {
          "base_uri": "https://localhost:8080/",
          "height": 283
        },
        "outputId": "00f563e7-68c6-431c-a3a8-342bb6d01f62"
      },
      "source": [
        "index=4\n",
        "plt.imshow(np.reshape(X_test[index],(28,28)))\n",
        "print(\"Prediction: \"+mdl.predict([X_test[index]])[0])"
      ],
      "execution_count": 10,
      "outputs": [
        {
          "output_type": "stream",
          "text": [
            "Prediction: 8\n"
          ],
          "name": "stdout"
        },
        {
          "output_type": "display_data",
          "data": {
            "image/png": "[encoded data removed]",
            "text/plain": [
              "<Figure size 432x288 with 1 Axes>"
            ]
          },
          "metadata": {
            "tags": [],
            "needs_background": "light"
          }
        }
      ]
    },
    {
      "cell_type": "code",
      "metadata": {
        "id": "3Y_sqhcxlIQG",
        "colab_type": "code",
        "colab": {
          "base_uri": "https://localhost:8080/",
          "height": 283
        },
        "outputId": "674623a6-b90c-497c-86d7-fdada4ff1874"
      },
      "source": [
        "index=7\n",
        "plt.imshow(np.reshape(X_test[index],(28,28)))\n",
        "print(\"Prediction: \"+mdl.predict([X_test[index]])[0])"
      ],
      "execution_count": 11,
      "outputs": [
        {
          "output_type": "stream",
          "text": [
            "Prediction: 1\n"
          ],
          "name": "stdout"
        },
        {
          "output_type": "display_data",
          "data": {
            "image/png": "[encoded data removed]",
            "text/plain": [
              "<Figure size 432x288 with 1 Axes>"
            ]
          },
          "metadata": {
            "tags": [],
            "needs_background": "light"
          }
        }
      ]
    },
    {
      "cell_type": "code",
      "metadata": {
        "id": "M0TURstSlMYG",
        "colab_type": "code",
        "colab": {
          "base_uri": "https://localhost:8080/",
          "height": 283
        },
        "outputId": "dbfa9064-5fe7-4467-8fa2-8f2fc9850037"
      },
      "source": [
        "index=13\n",
        "plt.imshow(np.reshape(X_test[index],(28,28)))\n",
        "print(\"Prediction: \"+mdl.predict([X_test[index]])[0])"
      ],
      "execution_count": 15,
      "outputs": [
        {
          "output_type": "stream",
          "text": [
            "Prediction: 9\n"
          ],
          "name": "stdout"
        },
        {
          "output_type": "display_data",
          "data": {
            "image/png": "[encoded data removed]",
            "text/plain": [
              "<Figure size 432x288 with 1 Axes>"
            ]
          },
          "metadata": {
            "tags": [],
            "needs_background": "light"
          }
        }
      ]
    },
    {
      "cell_type": "markdown",
      "metadata": {
        "id": "S_zsjJUllYU5",
        "colab_type": "text"
      },
      "source": [
        "#MAKING CONFUSION MATRIX"
      ]
    },
    {
      "cell_type": "code",
      "metadata": {
        "id": "uqEiafy9lbPe",
        "colab_type": "code",
        "colab": {
          "base_uri": "https://localhost:8080/",
          "height": 191
        },
        "outputId": "ab9f7d87-0d47-446b-d521-df5503693248"
      },
      "source": [
        "cm = metrics.confusion_matrix(Y_test,predictions)\n",
        "print(cm)"
      ],
      "execution_count": 16,
      "outputs": [
        {
          "output_type": "stream",
          "text": [
            "[[1319    0    2    2    2    7   12    2   12    1]\n",
            " [   0 1495    6    3    1    2    1    1   14    2]\n",
            " [   8   13 1294   18   25    4   23   19   33   10]\n",
            " [   4    4   41 1274    1   41    4   20   30   19]\n",
            " [   5    6    7    2 1267    1    8    8   13   43]\n",
            " [  13    2    6   51   15 1072   30    5   48   12]\n",
            " [   6    4    6    0    8   12 1368    3    5    0]\n",
            " [   0    7   13    8    6    1    1 1370    4   46]\n",
            " [   9   17   15   41    5   28    8    7 1236   12]\n",
            " [  13    5    4   15   47    7    3   40   12 1225]]\n"
          ],
          "name": "stdout"
        }
      ]
    },
    {
      "cell_type": "code",
      "metadata": {
        "id": "l2vLfrudli_L",
        "colab_type": "code",
        "colab": {
          "base_uri": "https://localhost:8080/",
          "height": 472
        },
        "outputId": "c2c1b26c-1914-4465-a3d9-cc0a80794e83"
      },
      "source": [
        "plt.figure(figsize=(8,8))\n",
        "plt.imshow(cm,cmap='Accent')\n",
        "plt.title('Confusion Matrix For MNIST Data')\n",
        "\n",
        "plt.xticks(np.arange(10))\n",
        "plt.yticks(np.arange(10))\n",
        "\n",
        "plt.colorbar()\n",
        "\n",
        "plt.ylabel('Actual Label')\n",
        "plt.xlabel('Predicted Label')\n",
        "\n",
        "width,height = cm.shape\n",
        "for x in range(width):\n",
        "    for y in range(height):\n",
        "        plt.annotate(str(cm[x][y]),xy=(y,x),horizontalalignment=\"center\",verticalalignment=\"center\")"
      ],
      "execution_count": 17,
      "outputs": [
        {
          "output_type": "display_data",
          "data": {
            "image/png": "[encoded data removed]",
            "text/plain": [
              "<Figure size 576x576 with 2 Axes>"
            ]
          },
          "metadata": {
            "tags": [],
            "needs_background": "light"
          }
        }
      ]
    }
  ]
}